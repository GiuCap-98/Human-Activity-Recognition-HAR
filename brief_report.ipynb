{
 "cells": [
  {
   "cell_type": "markdown",
   "metadata": {},
   "source": [
    "# Università Degli Studi di Verona\n",
    "\n",
    "# Fondamenti di Machine Learning A.A. 2021 - 2022 \n",
    "\n",
    "## *\"Human Activity Recognition with Smartphones\"*\n",
    "\n",
    "[Dataset Utilizzato](https://www.kaggle.com/datasets/uciml/human-activity-recognition-with-smartphones)\n",
    "\n",
    "### *Nome*: Giulio  -  *Cognome*: Cappelletti  -  *Matricola*: VR478827"
   ]
  },
  {
   "cell_type": "markdown",
   "metadata": {},
   "source": [
    "## Presentazione del Progetto"
   ]
  },
  {
   "cell_type": "markdown",
   "metadata": {},
   "source": [
    "La finalità del progetto è stata di affrontare un problema di classificazione, implementando 'from scratch' in Python le tecniche viste a lezione, che compongono alcuni aspetti fondamentali del Machine Learning.\n",
    "\n",
    "Il fulcro del Progetto risiede quindi nella classificazione, data anche la natura del Dataset, ho inoltre implementato anche un approccio di Clustering al fine di mettere in pratica quanto appreso.\n",
    "\n",
    "- Nella sezione 'Data' è disponibile il Dataset utilizzato\n",
    "\n",
    "- Nella sezione 'Code' è disponibile il codice implementato\n",
    "\n",
    "    - *Classifier.ipynb* : Contiene il codice utilizzato per fare classificazione\n",
    "\n",
    "    - *Clustering.ipynb* : Contiene il codice utilizzato per fare Clustering"
   ]
  },
  {
   "cell_type": "markdown",
   "metadata": {},
   "source": [
    "## Descrizione del Dataset"
   ]
  },
  {
   "cell_type": "markdown",
   "metadata": {},
   "source": [
    "Il Dataset iniziale (disponibile nella sezione Data) è composto da due file:\n",
    "- train.csv: matrice di dimensione (7352, 563)\n",
    "- test.csv: matrice di dimensione (2947, 563)\n",
    "\n",
    "I dati, per ogni soggetto, sono stati raccolti tramite uno smartphone (Samsung Galaxy S II) in vita.\n",
    "\n",
    "Nelle colonne del Dataset abbiamo:\n",
    "- 561 features\n",
    "- 'subject' identifica il soggetto in esame\n",
    "    Nel Dataset sono riportati gli esperimenti effettuati con un gruppo di 30 volontari. \n",
    "\n",
    "- 'Activity' identifica l'attività svolta\n",
    "    Ciascuna persona ha svolto sei attività:\n",
    "    - 'STANDING'\n",
    "    - 'SITTING'\n",
    "    - 'LAYING'\n",
    "    - 'WALKING'\n",
    "    - 'WALKING_DOWNSTAIRS'\n",
    "    - 'WALKING_UPSTAIRS'"
   ]
  },
  {
   "cell_type": "markdown",
   "metadata": {},
   "source": [
    "## Tecniche utilizzate"
   ]
  },
  {
   "cell_type": "markdown",
   "metadata": {},
   "source": [
    "Nello svolgimento di questo progetto, ho avuto modo di approfondire ed implementare 'from scratch' alcune delle tecniche studiate durante il corso di Fondamenti di Machine Learning.\n",
    "\n",
    "- Principal Component Analysis \n",
    "- Fisher's Linear Discriminant Analysis\n",
    "- K Neirest Neighbor\n",
    "- Cross Validation Leave One Out\n",
    "- K Means "
   ]
  },
  {
   "cell_type": "markdown",
   "metadata": {},
   "source": [
    "## Risultati Ottenuti"
   ]
  },
  {
   "cell_type": "markdown",
   "metadata": {},
   "source": [
    "### Clustering"
   ]
  },
  {
   "cell_type": "markdown",
   "metadata": {},
   "source": [
    "Riporto di seguito nell'immagine a sinistra un plot (il risultato varia poichè i centroidi sono inizializzati in modo randomico) dei dati etichettati con K Means, mentre a destra riporto il set di dati reale"
   ]
  },
  {
   "cell_type": "markdown",
   "metadata": {},
   "source": [
    "![](img_readme/clust.png)\n",
    "![](img_readme/real_data.png)\n"
   ]
  },
  {
   "cell_type": "markdown",
   "metadata": {},
   "source": [
    "### Classificazione"
   ]
  },
  {
   "cell_type": "markdown",
   "metadata": {},
   "source": [
    "Di seguito riporto le principali metriche di accuratezza usate per valutare le prestazioni del classificatore, riportando i risultati finali nella fase di Test\n",
    "\n",
    "1. Confusion Matrix sul Test Dataset (con K = 24) "
   ]
  },
  {
   "cell_type": "markdown",
   "metadata": {},
   "source": [
    "![](img_readme/acc_test.png)\n"
   ]
  },
  {
   "cell_type": "markdown",
   "metadata": {},
   "source": [
    "2. Metriche utilizzate, in particolare:\n",
    "\n",
    "    - Precisione: \n",
    "    \n",
    "    True Positive / (True Positive + False Positives)\n",
    "\n",
    "    - Richiamo:  \n",
    "    \n",
    "    True Positive / (True Positive + False Negatives)"
   ]
  },
  {
   "cell_type": "markdown",
   "metadata": {},
   "source": [
    "![](img_readme/metrics.png)\n"
   ]
  }
 ],
 "metadata": {
  "kernelspec": {
   "display_name": "Python 3.9.12 ('base')",
   "language": "python",
   "name": "python3"
  },
  "language_info": {
   "name": "python",
   "version": "3.9.12"
  },
  "orig_nbformat": 4,
  "vscode": {
   "interpreter": {
    "hash": "263930470851f494f0ed2879c35b57985588df20f9e529b86e97dd5eb9ddc466"
   }
  }
 },
 "nbformat": 4,
 "nbformat_minor": 2
}
